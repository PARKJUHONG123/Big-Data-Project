{
 "cells": [
  {
   "cell_type": "code",
   "execution_count": 67,
   "metadata": {},
   "outputs": [],
   "source": [
    "import pandas as pd\n",
    "import requests\n",
    "import json\n",
    "import warnings\n",
    "warnings.filterwarnings('ignore')\n",
    "pd.set_option('display.max_rows', 100)"
   ]
  },
  {
   "cell_type": "code",
   "execution_count": 68,
   "metadata": {},
   "outputs": [],
   "source": [
    "subway=pd.read_csv(\"C:\\\\Users\\\\DAEWOONG\\\\Downloads\\\\dgsub.csv\",encoding='cp949')"
   ]
  },
  {
   "cell_type": "code",
   "execution_count": 69,
   "metadata": {},
   "outputs": [],
   "source": [
    "sub=subway[['역사명','노선명','역사도로명주소']]"
   ]
  },
  {
   "cell_type": "code",
   "execution_count": 70,
   "metadata": {},
   "outputs": [],
   "source": [
    "headers = {'Authorization' : 'KakaoAK cece2f201ea21342bd507cea8923f5bd'}\n",
    "k=0\n",
    "for i in sub['역사도로명주소']:\n",
    "    body = {'query':i}\n",
    "    response = requests.request(\"GET\",\n",
    "                            'https://dapi.kakao.com/v2/local/search/address.json',\n",
    "                            data=body,\n",
    "                            headers=headers)\n",
    "    res = json.loads(response.text)\n",
    "    if(res['documents']!=[]):\n",
    "        sub.loc[k,'x']=res['documents'][0]['y']\n",
    "        sub.loc[k,'y']=res['documents'][0]['x']\n",
    "    k+=1"
   ]
  },
  {
   "cell_type": "code",
   "execution_count": 71,
   "metadata": {
    "scrolled": true
   },
   "outputs": [],
   "source": [
    "sub=sub.dropna()"
   ]
  },
  {
   "cell_type": "code",
   "execution_count": 72,
   "metadata": {},
   "outputs": [],
   "source": [
    "sub1=pd.DataFrame(sub[sub['노선명']=='대구 도시철도 1호선']).reset_index(drop=True)\n",
    "sub2=pd.DataFrame(sub[sub['노선명']=='대구 도시철도 2호선']).reset_index(drop=True)\n",
    "sub3=pd.DataFrame(sub[sub['노선명']=='대구 도시철도 3호선']).reset_index(drop=True)"
   ]
  },
  {
   "cell_type": "code",
   "execution_count": 99,
   "metadata": {},
   "outputs": [],
   "source": [
    "cha=pd.DataFrame(columns=['chax','chay'])"
   ]
  },
  {
   "cell_type": "code",
   "execution_count": 100,
   "metadata": {},
   "outputs": [],
   "source": [
    "k=0\n",
    "for i in range(len(sub1)-1):\n",
    "    cha.loc[k,'chax']=abs(float(sub1.loc[i,'x'])-float(sub1.loc[i+1,'x']))/2\n",
    "    cha.loc[k,'chay']=abs(float(sub1.loc[i,'y'])-float(sub1.loc[i+1,'y']))/2\n",
    "    k+=1\n",
    "for i in range(len(sub2)-1):\n",
    "    cha.loc[k,'chax']=abs(float(sub2.loc[i,'x'])-float(sub2.loc[i+1,'x']))/2\n",
    "    cha.loc[k,'chay']=abs(float(sub2.loc[i,'y'])-float(sub2.loc[i+1,'y']))/2\n",
    "    k+=1\n",
    "for i in range(len(sub3)-1):\n",
    "    cha.loc[k,'chax']=abs(float(sub3.loc[i,'x'])-float(sub3.loc[i+1,'x']))/2\n",
    "    cha.loc[k,'chay']=abs(float(sub3.loc[i,'y'])-float(sub3.loc[i+1,'y']))/2\n",
    "    k+=1"
   ]
  },
  {
   "cell_type": "code",
   "execution_count": 102,
   "metadata": {
    "scrolled": false
   },
   "outputs": [
    {
     "data": {
      "text/plain": [
       "0.0018885040155218328"
      ]
     },
     "execution_count": 102,
     "metadata": {},
     "output_type": "execute_result"
    }
   ],
   "source": [
    "cha['chax'].mean()"
   ]
  },
  {
   "cell_type": "code",
   "execution_count": 103,
   "metadata": {},
   "outputs": [
    {
     "data": {
      "text/plain": [
       "0.003941884712487067"
      ]
     },
     "execution_count": 103,
     "metadata": {},
     "output_type": "execute_result"
    }
   ],
   "source": [
    "cha['chay'].mean()"
   ]
  },
  {
   "cell_type": "code",
   "execution_count": 108,
   "metadata": {
    "scrolled": false
   },
   "outputs": [],
   "source": [
    "sub['x']=sub['x'].astype(float)\n",
    "sub['y']=sub['y'].astype(float)"
   ]
  },
  {
   "cell_type": "code",
   "execution_count": 110,
   "metadata": {},
   "outputs": [
    {
     "data": {
      "text/plain": [
       "0     35.800562\n",
       "1     35.806321\n",
       "2     35.811328\n",
       "3     35.815779\n",
       "4     35.818030\n",
       "5     35.820842\n",
       "6     35.825622\n",
       "7     35.832956\n",
       "8     35.839019\n",
       "9     35.841203\n",
       "10    35.841155\n",
       "11    35.843063\n",
       "12    35.845839\n",
       "13    35.851981\n",
       "14    35.859843\n",
       "15    35.866309\n",
       "16    35.872853\n",
       "17    35.878232\n",
       "18    35.878014\n",
       "19    35.876520\n",
       "20    35.879320\n",
       "21    35.886126\n",
       "22    35.889007\n",
       "23    35.887850\n",
       "24    35.885391\n",
       "25    35.881526\n",
       "26    35.878132\n",
       "27    35.871668\n",
       "28    35.868589\n",
       "29    35.867879\n",
       "30    35.869891\n",
       "31    35.873170\n",
       "34    35.859165\n",
       "35    35.854965\n",
       "36    35.853394\n",
       "37    35.853618\n",
       "38    35.852509\n",
       "39    35.850853\n",
       "40    35.852430\n",
       "41    35.856126\n",
       "42    35.859434\n",
       "43    35.864089\n",
       "44    35.862064\n",
       "45    35.866795\n",
       "46    35.866309\n",
       "47    35.865088\n",
       "48    35.861629\n",
       "49    35.860904\n",
       "50    35.860629\n",
       "51    35.860691\n",
       "52    35.856756\n",
       "53    35.848348\n",
       "54    35.844485\n",
       "55    35.844756\n",
       "56    35.842610\n",
       "57    35.838654\n",
       "58    35.835868\n",
       "59    35.835908\n",
       "60    35.837720\n",
       "61    35.960327\n",
       "62    35.953476\n",
       "63    35.945968\n",
       "64    35.939596\n",
       "65    35.933365\n",
       "66    35.927552\n",
       "67    35.921559\n",
       "68    35.914650\n",
       "69    35.906318\n",
       "70    35.899713\n",
       "72    35.891731\n",
       "73    35.890726\n",
       "74    35.889668\n",
       "75    35.885871\n",
       "76    35.877539\n",
       "77    35.871686\n",
       "78    35.866043\n",
       "79    35.858571\n",
       "80    35.858775\n",
       "81    35.857243\n",
       "82    35.856827\n",
       "83    35.856159\n",
       "84    35.854331\n",
       "85    35.846971\n",
       "86    35.841077\n",
       "87    35.833308\n",
       "88    35.827015\n",
       "89    35.822567\n",
       "90    35.820271\n",
       "Name: x, dtype: float64"
      ]
     },
     "execution_count": 110,
     "metadata": {},
     "output_type": "execute_result"
    }
   ],
   "source": [
    "subsub['x']+cha['chax'].mean()"
   ]
  },
  {
   "cell_type": "code",
   "execution_count": null,
   "metadata": {},
   "outputs": [],
   "source": []
  }
 ],
 "metadata": {
  "kernelspec": {
   "display_name": "Python 3",
   "language": "python",
   "name": "python3"
  },
  "language_info": {
   "codemirror_mode": {
    "name": "ipython",
    "version": 3
   },
   "file_extension": ".py",
   "mimetype": "text/x-python",
   "name": "python",
   "nbconvert_exporter": "python",
   "pygments_lexer": "ipython3",
   "version": "3.7.3"
  }
 },
 "nbformat": 4,
 "nbformat_minor": 2
}
