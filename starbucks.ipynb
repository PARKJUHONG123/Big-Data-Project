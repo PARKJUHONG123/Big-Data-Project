{
 "cells": [
  {
   "cell_type": "code",
   "execution_count": 8,
   "metadata": {},
   "outputs": [],
   "source": [
    "import pandas as pd\n",
    "import requests\n",
    "import json\n",
    "import warnings\n",
    "warnings.filterwarnings('ignore')\n",
    "pd.set_option('display.max_rows', 100)"
   ]
  },
  {
   "cell_type": "code",
   "execution_count": 10,
   "metadata": {},
   "outputs": [],
   "source": [
    "# star = pd.read_csv(\"C:\\\\Users\\\\DAEWOONG\\\\대웅\\\\UiPath\\\\openbrowser\\\\starbucks.csv\",encoding='cp949')\n",
    "star = pd.read_csv(\"C:\\\\Users\\\\DAEWOONG\\\\대웅\\\\UiPath\\\\openbrowser\\\\starbucks_xltocsv_utf.csv\",encoding='UTF8')"
   ]
  },
  {
   "cell_type": "code",
   "execution_count": 11,
   "metadata": {},
   "outputs": [
    {
     "data": {
      "text/html": [
       "<div>\n",
       "<style scoped>\n",
       "    .dataframe tbody tr th:only-of-type {\n",
       "        vertical-align: middle;\n",
       "    }\n",
       "\n",
       "    .dataframe tbody tr th {\n",
       "        vertical-align: top;\n",
       "    }\n",
       "\n",
       "    .dataframe thead th {\n",
       "        text-align: right;\n",
       "    }\n",
       "</style>\n",
       "<table border=\"1\" class=\"dataframe\">\n",
       "  <thead>\n",
       "    <tr style=\"text-align: right;\">\n",
       "      <th></th>\n",
       "      <th>NAME</th>\n",
       "      <th>ADDRESS</th>\n",
       "    </tr>\n",
       "  </thead>\n",
       "  <tbody>\n",
       "    <tr>\n",
       "      <th>0</th>\n",
       "      <td>계명대동산병원</td>\n",
       "      <td>대구광역시 달서구 달구벌대로 1035 (신당동)\\r\\n053-584-3740</td>\n",
       "    </tr>\n",
       "    <tr>\n",
       "      <th>1</th>\n",
       "      <td>대구죽전역</td>\n",
       "      <td>대구광역시 달서구 와룡로 169 \\r\\n053-552-3634</td>\n",
       "    </tr>\n",
       "    <tr>\n",
       "      <th>2</th>\n",
       "      <td>대구월곡DT</td>\n",
       "      <td>대구광역시 달서구 월곡로 225 (상인동)\\r\\n053-637-3568</td>\n",
       "    </tr>\n",
       "    <tr>\n",
       "      <th>3</th>\n",
       "      <td>대구광장</td>\n",
       "      <td>대구광역시 달서구 달구벌대로 1710 (두류동)\\r\\n053-622-3607</td>\n",
       "    </tr>\n",
       "    <tr>\n",
       "      <th>4</th>\n",
       "      <td>대구월촌역</td>\n",
       "      <td>대구광역시 달서구 월배로 315 (송현동)\\r\\n053-622-3542</td>\n",
       "    </tr>\n",
       "  </tbody>\n",
       "</table>\n",
       "</div>"
      ],
      "text/plain": [
       "       NAME                                     ADDRESS\n",
       "0  계명대동산병원   대구광역시 달서구 달구벌대로 1035 (신당동)\\r\\n053-584-3740\n",
       "1    대구죽전역           대구광역시 달서구 와룡로 169 \\r\\n053-552-3634\n",
       "2   대구월곡DT      대구광역시 달서구 월곡로 225 (상인동)\\r\\n053-637-3568\n",
       "3     대구광장   대구광역시 달서구 달구벌대로 1710 (두류동)\\r\\n053-622-3607\n",
       "4    대구월촌역      대구광역시 달서구 월배로 315 (송현동)\\r\\n053-622-3542"
      ]
     },
     "execution_count": 11,
     "metadata": {},
     "output_type": "execute_result"
    }
   ],
   "source": [
    "star.head()"
   ]
  },
  {
   "cell_type": "code",
   "execution_count": 12,
   "metadata": {},
   "outputs": [],
   "source": [
    "star['ADDRESS']=star['ADDRESS'].str.split('\\r').str[0]\n",
    "# star['ADDRESS']=star['ADDRESS'].str.split(',').str[0]"
   ]
  },
  {
   "cell_type": "code",
   "execution_count": 13,
   "metadata": {},
   "outputs": [],
   "source": [
    "headers = {'Authorization' : 'KakaoAK cece2f201ea21342bd507cea8923f5bd'}\n",
    "k=0\n",
    "for i in star['ADDRESS']:\n",
    "    body = {'query':i}\n",
    "    response = requests.request(\"GET\",\n",
    "                            'https://dapi.kakao.com/v2/local/search/address.json',\n",
    "                            data=body,\n",
    "                            headers=headers)\n",
    "    res = json.loads(response.text)\n",
    "    if(res['documents']!=[]):\n",
    "        star.loc[k,'x']=res['documents'][0]['y']\n",
    "        star.loc[k,'y']=res['documents'][0]['x']\n",
    "    k+=1"
   ]
  },
  {
   "cell_type": "code",
   "execution_count": 14,
   "metadata": {},
   "outputs": [
    {
     "data": {
      "text/html": [
       "<div>\n",
       "<style scoped>\n",
       "    .dataframe tbody tr th:only-of-type {\n",
       "        vertical-align: middle;\n",
       "    }\n",
       "\n",
       "    .dataframe tbody tr th {\n",
       "        vertical-align: top;\n",
       "    }\n",
       "\n",
       "    .dataframe thead th {\n",
       "        text-align: right;\n",
       "    }\n",
       "</style>\n",
       "<table border=\"1\" class=\"dataframe\">\n",
       "  <thead>\n",
       "    <tr style=\"text-align: right;\">\n",
       "      <th></th>\n",
       "      <th>NAME</th>\n",
       "      <th>ADDRESS</th>\n",
       "      <th>x</th>\n",
       "      <th>y</th>\n",
       "    </tr>\n",
       "  </thead>\n",
       "  <tbody>\n",
       "    <tr>\n",
       "      <th>0</th>\n",
       "      <td>계명대동산병원</td>\n",
       "      <td>대구광역시 달서구 달구벌대로 1035 (신당동)</td>\n",
       "      <td>35.85388728949213</td>\n",
       "      <td>128.48012966656506</td>\n",
       "    </tr>\n",
       "    <tr>\n",
       "      <th>1</th>\n",
       "      <td>대구죽전역</td>\n",
       "      <td>대구광역시 달서구 와룡로 169</td>\n",
       "      <td>35.84873282750851</td>\n",
       "      <td>128.53639085459335</td>\n",
       "    </tr>\n",
       "    <tr>\n",
       "      <th>2</th>\n",
       "      <td>대구월곡DT</td>\n",
       "      <td>대구광역시 달서구 월곡로 225 (상인동)</td>\n",
       "      <td>35.8148584916296</td>\n",
       "      <td>128.54102637183095</td>\n",
       "    </tr>\n",
       "    <tr>\n",
       "      <th>3</th>\n",
       "      <td>대구광장</td>\n",
       "      <td>대구광역시 달서구 달구벌대로 1710 (두류동)</td>\n",
       "      <td>35.85572365218507</td>\n",
       "      <td>128.55281568498964</td>\n",
       "    </tr>\n",
       "    <tr>\n",
       "      <th>4</th>\n",
       "      <td>대구월촌역</td>\n",
       "      <td>대구광역시 달서구 월배로 315 (송현동)</td>\n",
       "      <td>35.82401832821562</td>\n",
       "      <td>128.54520017520318</td>\n",
       "    </tr>\n",
       "  </tbody>\n",
       "</table>\n",
       "</div>"
      ],
      "text/plain": [
       "       NAME                     ADDRESS                  x                   y\n",
       "0  계명대동산병원   대구광역시 달서구 달구벌대로 1035 (신당동)  35.85388728949213  128.48012966656506\n",
       "1    대구죽전역           대구광역시 달서구 와룡로 169   35.84873282750851  128.53639085459335\n",
       "2   대구월곡DT      대구광역시 달서구 월곡로 225 (상인동)   35.8148584916296  128.54102637183095\n",
       "3     대구광장   대구광역시 달서구 달구벌대로 1710 (두류동)  35.85572365218507  128.55281568498964\n",
       "4    대구월촌역      대구광역시 달서구 월배로 315 (송현동)  35.82401832821562  128.54520017520318"
      ]
     },
     "execution_count": 14,
     "metadata": {},
     "output_type": "execute_result"
    }
   ],
   "source": [
    "star.head()"
   ]
  },
  {
   "cell_type": "code",
   "execution_count": 17,
   "metadata": {},
   "outputs": [],
   "source": [
    "star.to_csv(\"starxy.csv\",index=False,encoding='ms949')"
   ]
  },
  {
   "cell_type": "code",
   "execution_count": 136,
   "metadata": {},
   "outputs": [],
   "source": [
    "star=star.fillna(0)"
   ]
  }
 ],
 "metadata": {
  "kernelspec": {
   "display_name": "Python 3",
   "language": "python",
   "name": "python3"
  },
  "language_info": {
   "codemirror_mode": {
    "name": "ipython",
    "version": 3
   },
   "file_extension": ".py",
   "mimetype": "text/x-python",
   "name": "python",
   "nbconvert_exporter": "python",
   "pygments_lexer": "ipython3",
   "version": "3.7.3"
  }
 },
 "nbformat": 4,
 "nbformat_minor": 2
}
