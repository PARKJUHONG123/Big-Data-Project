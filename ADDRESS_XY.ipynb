{
 "cells": [
  {
   "cell_type": "code",
   "execution_count": 15,
   "metadata": {},
   "outputs": [
    {
     "name": "stdout",
     "output_type": "stream",
     "text": [
      "대구 달서구 달구벌대로 1796\n",
      "대구 달서구 달구벌대로 1796 / 128.5615424589908 / 35.85886187478975\n"
     ]
    }
   ],
   "source": [
    "# 카카오 API 중 ADDRESS.JSON 을 활용한 좌표 출력\n",
    "import requests\n",
    "import json\n",
    "\n",
    "location = input()\n",
    "\n",
    "headers = {'Authorization' : 'KakaoAK cece2f201ea21342bd507cea8923f5bd'}\n",
    "body = {'query' : location}\n",
    "response = requests.request(\"GET\",\n",
    "                            'https://dapi.kakao.com/v2/local/search/address.json',\n",
    "                            data=body,\n",
    "                            headers=headers)\n",
    "\n",
    "res = json.loads(response.text)\n",
    "\n",
    "x = res['documents'][0]['x']\n",
    "y = res['documents'][0]['y']\n",
    "print(location,'/', x , '/', y)"
   ]
  }
 ],
 "metadata": {
  "kernelspec": {
   "display_name": "Python 3",
   "language": "python",
   "name": "python3"
  },
  "language_info": {
   "codemirror_mode": {
    "name": "ipython",
    "version": 3
   },
   "file_extension": ".py",
   "mimetype": "text/x-python",
   "name": "python",
   "nbconvert_exporter": "python",
   "pygments_lexer": "ipython3",
   "version": "3.7.4"
  }
 },
 "nbformat": 4,
 "nbformat_minor": 2
}
